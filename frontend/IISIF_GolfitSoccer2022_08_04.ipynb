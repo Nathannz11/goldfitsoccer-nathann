{
  "nbformat": 4,
  "nbformat_minor": 0,
  "metadata": {
    "colab": {
      "name": "IISIF_GolfitSoccer2022_08_04.ipynb",
      "provenance": [],
      "collapsed_sections": [],
      "include_colab_link": true
    },
    "kernelspec": {
      "name": "python3",
      "display_name": "Python 3"
    },
    "language_info": {
      "name": "python"
    }
  },
  "cells": [
    {
      "cell_type": "markdown",
      "metadata": {
        "id": "view-in-github",
        "colab_type": "text"
      },
      "source": [
        "<a href=\"https://colab.research.google.com/github/rcpsilva/GoldFit/blob/main/IISIF_GolfitSoccer2022_08_04.ipynb\" target=\"_parent\"><img src=\"https://colab.research.google.com/assets/colab-badge.svg\" alt=\"Open In Colab\"/></a>"
      ]
    },
    {
      "cell_type": "markdown",
      "source": [
        "# Get Data"
      ],
      "metadata": {
        "id": "5g3sVrQ5zFgk"
      }
    },
    {
      "cell_type": "code",
      "source": [
        "import pandas as pd\n",
        "from sklearn.model_selection import train_test_split"
      ],
      "metadata": {
        "id": "ILM5jtnXzgo4"
      },
      "execution_count": 1,
      "outputs": []
    },
    {
      "cell_type": "code",
      "execution_count": 2,
      "metadata": {
        "id": "3NCJDPFzywjf"
      },
      "outputs": [],
      "source": [
        "data = pd.read_excel('BDADOS_Modelagem Futebol_IC2022 (2).xlsx')"
      ]
    },
    {
      "cell_type": "code",
      "source": [
        "''' x2015_diff = data.drop(['Codigo', 'Nome', 'PosiçãodeJogo',\n",
        "       'GoldEscore_ModeloLinear', 'GSS_Classificao', 'FezReteste',\n",
        "       'RetençãoPosTemporada', 'Ano_Avaliação', 'Ano_Nascimento', 'Idade',\n",
        "       'Quartil1', 'EAP_%Atingida', 'Maturação_EscoreZ',\n",
        "       'P_Lidar', 'P_Pressão', 'P_Metas',\n",
        "       'P_Concentração', 'P_LivrePreocupação', \n",
        "       'P_Treinabilidade', 'P_IdadeInicio',\n",
        "       'AtletaFamília', 'P_MassaCorporal', 'P_Estatura',\n",
        "       'EstaturaAdultaPrevista', 'P_Gordura', 'P_ForçaMão', 'P_Flexibilidade',\n",
        "       'P_VO2máx',\n",
        "       'P_Intangíveis', 'P_Treinador'], axis=1).loc[data['Ano_Avaliação'] == 2015]\n",
        "\n",
        "x2017_diff = data.drop(['Codigo', 'Nome', 'PosiçãodeJogo',\n",
        "       'GoldEscore_ModeloLinear', 'GSS_Classificao', 'FezReteste',\n",
        "       'RetençãoPosTemporada', 'Ano_Avaliação', 'Ano_Nascimento', 'Idade',\n",
        "       'Quartil1', 'EAP_%Atingida', 'Maturação_EscoreZ',\n",
        "       'P_Lidar', 'P_Pressão', 'P_Metas',\n",
        "       'P_Concentração', 'P_LivrePreocupação', \n",
        "       'P_Treinabilidade', 'P_IdadeInicio',\n",
        "       'AtletaFamília', 'P_MassaCorporal', 'P_Estatura',\n",
        "       'EstaturaAdultaPrevista', 'P_Gordura', 'P_ForçaMão', 'P_Flexibilidade',\n",
        "       'P_VO2máx',\n",
        "       'P_Intangíveis', 'P_Treinador'], axis=1).loc[data['Ano_Avaliação'] == 2017] '''"
      ],
      "metadata": {
        "id": "XoGloaDIzusV",
        "colab": {
          "base_uri": "https://localhost:8080/",
          "height": 122
        },
        "outputId": "9f59e287-2ec3-4d14-b319-5c45a6e89636"
      },
      "execution_count": 3,
      "outputs": [
        {
          "output_type": "execute_result",
          "data": {
            "text/plain": [
              "\" x2015_diff = data.drop(['Codigo', 'Nome', 'PosiçãodeJogo',\\n       'GoldEscore_ModeloLinear', 'GSS_Classificao', 'FezReteste',\\n       'RetençãoPosTemporada', 'Ano_Avaliação', 'Ano_Nascimento', 'Idade',\\n       'Quartil1', 'EAP_%Atingida', 'Maturação_EscoreZ',\\n       'P_Lidar', 'P_Pressão', 'P_Metas',\\n       'P_Concentração', 'P_LivrePreocupação', \\n       'P_Treinabilidade', 'P_IdadeInicio',\\n       'AtletaFamília', 'P_MassaCorporal', 'P_Estatura',\\n       'EstaturaAdultaPrevista', 'P_Gordura', 'P_ForçaMão', 'P_Flexibilidade',\\n       'P_VO2máx',\\n       'P_Intangíveis', 'P_Treinador'], axis=1).loc[data['Ano_Avaliação'] == 2015]\\n\\nx2017_diff = data.drop(['Codigo', 'Nome', 'PosiçãodeJogo',\\n       'GoldEscore_ModeloLinear', 'GSS_Classificao', 'FezReteste',\\n       'RetençãoPosTemporada', 'Ano_Avaliação', 'Ano_Nascimento', 'Idade',\\n       'Quartil1', 'EAP_%Atingida', 'Maturação_EscoreZ',\\n       'P_Lidar', 'P_Pressão', 'P_Metas',\\n       'P_Concentração', 'P_LivrePreocupação', \\n       'P_Treinabilidade', 'P_IdadeInicio',\\n       'AtletaFamília', 'P_MassaCorporal', 'P_Estatura',\\n       'EstaturaAdultaPrevista', 'P_Gordura', 'P_ForçaMão', 'P_Flexibilidade',\\n       'P_VO2máx',\\n       'P_Intangíveis', 'P_Treinador'], axis=1).loc[data['Ano_Avaliação'] == 2017] \""
            ],
            "application/vnd.google.colaboratory.intrinsic+json": {
              "type": "string"
            }
          },
          "metadata": {},
          "execution_count": 3
        }
      ]
    },
    {
      "cell_type": "code",
      "source": [
        "x2015_diff = data[data['Ano_Avaliação']==2015]"
      ],
      "metadata": {
        "id": "iJESaPQ8elkc"
      },
      "execution_count": 4,
      "outputs": []
    },
    {
      "cell_type": "code",
      "source": [
        "x2015_diff = data[['Status2020','GoldEscore_ModeloLinear','Ambidestro','CompetênciaPercebida', 'P_ConfiançaMotivação', 'P_Coping','P_ApoioFamilia', 'P_SaltoVertical', 'P_Agilidade', 'P_Velocidade20m','P_ResistênciaYOYO', 'P_Drible', 'P_Tática', 'IdadePVC']]"
      ],
      "metadata": {
        "id": "RhR9W68BSyLa"
      },
      "execution_count": 5,
      "outputs": []
    },
    {
      "cell_type": "code",
      "source": [
        "x2015_diff.head()"
      ],
      "metadata": {
        "colab": {
          "base_uri": "https://localhost:8080/",
          "height": 270
        },
        "id": "tuJjI-arTiBR",
        "outputId": "9b85ea2a-d723-49f7-e5b1-5c7060ec1c17"
      },
      "execution_count": 6,
      "outputs": [
        {
          "output_type": "execute_result",
          "data": {
            "text/plain": [
              "   Status2020  GoldEscore_ModeloLinear  Ambidestro  CompetênciaPercebida  \\\n",
              "0           0                50.989571           0                    70   \n",
              "1           0                50.085655           0                    80   \n",
              "2           0                44.474730           0                    70   \n",
              "3           0                46.645113           0                    80   \n",
              "4           0                45.482161           1                    70   \n",
              "\n",
              "   P_ConfiançaMotivação   P_Coping  P_ApoioFamilia  P_SaltoVertical  \\\n",
              "0             85.992891  88.493033       71.566115        74.857110   \n",
              "1             34.826827  81.326706       57.925971        92.219616   \n",
              "2             72.240468  90.490208       50.797831        44.828321   \n",
              "3              8.534345   6.300836       18.141125        22.965000   \n",
              "4             72.240468  35.569125       10.027257        88.876756   \n",
              "\n",
              "   P_Agilidade  P_Velocidade20m  P_ResistênciaYOYO   P_Drible   P_Tática  \\\n",
              "0    76.114793        22.965000           4.947147  41.293558  82.121362   \n",
              "1    83.891294        64.430875          24.825223  63.307174  90.490208   \n",
              "2    50.000000        51.595344          34.457826  50.000000  40.904588   \n",
              "3    61.791142        65.909703           9.012267  77.035000  40.904588   \n",
              "4    81.057035        98.808937          16.602325  44.038231  40.904588   \n",
              "\n",
              "    IdadePVC  \n",
              "0  15.836011  \n",
              "1  13.516524  \n",
              "2  14.320515  \n",
              "3  14.971890  \n",
              "4  12.867770  "
            ],
            "text/html": [
              "\n",
              "  <div id=\"df-6500372d-5f52-422b-ab80-b3f06069b754\">\n",
              "    <div class=\"colab-df-container\">\n",
              "      <div>\n",
              "<style scoped>\n",
              "    .dataframe tbody tr th:only-of-type {\n",
              "        vertical-align: middle;\n",
              "    }\n",
              "\n",
              "    .dataframe tbody tr th {\n",
              "        vertical-align: top;\n",
              "    }\n",
              "\n",
              "    .dataframe thead th {\n",
              "        text-align: right;\n",
              "    }\n",
              "</style>\n",
              "<table border=\"1\" class=\"dataframe\">\n",
              "  <thead>\n",
              "    <tr style=\"text-align: right;\">\n",
              "      <th></th>\n",
              "      <th>Status2020</th>\n",
              "      <th>GoldEscore_ModeloLinear</th>\n",
              "      <th>Ambidestro</th>\n",
              "      <th>CompetênciaPercebida</th>\n",
              "      <th>P_ConfiançaMotivação</th>\n",
              "      <th>P_Coping</th>\n",
              "      <th>P_ApoioFamilia</th>\n",
              "      <th>P_SaltoVertical</th>\n",
              "      <th>P_Agilidade</th>\n",
              "      <th>P_Velocidade20m</th>\n",
              "      <th>P_ResistênciaYOYO</th>\n",
              "      <th>P_Drible</th>\n",
              "      <th>P_Tática</th>\n",
              "      <th>IdadePVC</th>\n",
              "    </tr>\n",
              "  </thead>\n",
              "  <tbody>\n",
              "    <tr>\n",
              "      <th>0</th>\n",
              "      <td>0</td>\n",
              "      <td>50.989571</td>\n",
              "      <td>0</td>\n",
              "      <td>70</td>\n",
              "      <td>85.992891</td>\n",
              "      <td>88.493033</td>\n",
              "      <td>71.566115</td>\n",
              "      <td>74.857110</td>\n",
              "      <td>76.114793</td>\n",
              "      <td>22.965000</td>\n",
              "      <td>4.947147</td>\n",
              "      <td>41.293558</td>\n",
              "      <td>82.121362</td>\n",
              "      <td>15.836011</td>\n",
              "    </tr>\n",
              "    <tr>\n",
              "      <th>1</th>\n",
              "      <td>0</td>\n",
              "      <td>50.085655</td>\n",
              "      <td>0</td>\n",
              "      <td>80</td>\n",
              "      <td>34.826827</td>\n",
              "      <td>81.326706</td>\n",
              "      <td>57.925971</td>\n",
              "      <td>92.219616</td>\n",
              "      <td>83.891294</td>\n",
              "      <td>64.430875</td>\n",
              "      <td>24.825223</td>\n",
              "      <td>63.307174</td>\n",
              "      <td>90.490208</td>\n",
              "      <td>13.516524</td>\n",
              "    </tr>\n",
              "    <tr>\n",
              "      <th>2</th>\n",
              "      <td>0</td>\n",
              "      <td>44.474730</td>\n",
              "      <td>0</td>\n",
              "      <td>70</td>\n",
              "      <td>72.240468</td>\n",
              "      <td>90.490208</td>\n",
              "      <td>50.797831</td>\n",
              "      <td>44.828321</td>\n",
              "      <td>50.000000</td>\n",
              "      <td>51.595344</td>\n",
              "      <td>34.457826</td>\n",
              "      <td>50.000000</td>\n",
              "      <td>40.904588</td>\n",
              "      <td>14.320515</td>\n",
              "    </tr>\n",
              "    <tr>\n",
              "      <th>3</th>\n",
              "      <td>0</td>\n",
              "      <td>46.645113</td>\n",
              "      <td>0</td>\n",
              "      <td>80</td>\n",
              "      <td>8.534345</td>\n",
              "      <td>6.300836</td>\n",
              "      <td>18.141125</td>\n",
              "      <td>22.965000</td>\n",
              "      <td>61.791142</td>\n",
              "      <td>65.909703</td>\n",
              "      <td>9.012267</td>\n",
              "      <td>77.035000</td>\n",
              "      <td>40.904588</td>\n",
              "      <td>14.971890</td>\n",
              "    </tr>\n",
              "    <tr>\n",
              "      <th>4</th>\n",
              "      <td>0</td>\n",
              "      <td>45.482161</td>\n",
              "      <td>1</td>\n",
              "      <td>70</td>\n",
              "      <td>72.240468</td>\n",
              "      <td>35.569125</td>\n",
              "      <td>10.027257</td>\n",
              "      <td>88.876756</td>\n",
              "      <td>81.057035</td>\n",
              "      <td>98.808937</td>\n",
              "      <td>16.602325</td>\n",
              "      <td>44.038231</td>\n",
              "      <td>40.904588</td>\n",
              "      <td>12.867770</td>\n",
              "    </tr>\n",
              "  </tbody>\n",
              "</table>\n",
              "</div>\n",
              "      <button class=\"colab-df-convert\" onclick=\"convertToInteractive('df-6500372d-5f52-422b-ab80-b3f06069b754')\"\n",
              "              title=\"Convert this dataframe to an interactive table.\"\n",
              "              style=\"display:none;\">\n",
              "        \n",
              "  <svg xmlns=\"http://www.w3.org/2000/svg\" height=\"24px\"viewBox=\"0 0 24 24\"\n",
              "       width=\"24px\">\n",
              "    <path d=\"M0 0h24v24H0V0z\" fill=\"none\"/>\n",
              "    <path d=\"M18.56 5.44l.94 2.06.94-2.06 2.06-.94-2.06-.94-.94-2.06-.94 2.06-2.06.94zm-11 1L8.5 8.5l.94-2.06 2.06-.94-2.06-.94L8.5 2.5l-.94 2.06-2.06.94zm10 10l.94 2.06.94-2.06 2.06-.94-2.06-.94-.94-2.06-.94 2.06-2.06.94z\"/><path d=\"M17.41 7.96l-1.37-1.37c-.4-.4-.92-.59-1.43-.59-.52 0-1.04.2-1.43.59L10.3 9.45l-7.72 7.72c-.78.78-.78 2.05 0 2.83L4 21.41c.39.39.9.59 1.41.59.51 0 1.02-.2 1.41-.59l7.78-7.78 2.81-2.81c.8-.78.8-2.07 0-2.86zM5.41 20L4 18.59l7.72-7.72 1.47 1.35L5.41 20z\"/>\n",
              "  </svg>\n",
              "      </button>\n",
              "      \n",
              "  <style>\n",
              "    .colab-df-container {\n",
              "      display:flex;\n",
              "      flex-wrap:wrap;\n",
              "      gap: 12px;\n",
              "    }\n",
              "\n",
              "    .colab-df-convert {\n",
              "      background-color: #E8F0FE;\n",
              "      border: none;\n",
              "      border-radius: 50%;\n",
              "      cursor: pointer;\n",
              "      display: none;\n",
              "      fill: #1967D2;\n",
              "      height: 32px;\n",
              "      padding: 0 0 0 0;\n",
              "      width: 32px;\n",
              "    }\n",
              "\n",
              "    .colab-df-convert:hover {\n",
              "      background-color: #E2EBFA;\n",
              "      box-shadow: 0px 1px 2px rgba(60, 64, 67, 0.3), 0px 1px 3px 1px rgba(60, 64, 67, 0.15);\n",
              "      fill: #174EA6;\n",
              "    }\n",
              "\n",
              "    [theme=dark] .colab-df-convert {\n",
              "      background-color: #3B4455;\n",
              "      fill: #D2E3FC;\n",
              "    }\n",
              "\n",
              "    [theme=dark] .colab-df-convert:hover {\n",
              "      background-color: #434B5C;\n",
              "      box-shadow: 0px 1px 3px 1px rgba(0, 0, 0, 0.15);\n",
              "      filter: drop-shadow(0px 1px 2px rgba(0, 0, 0, 0.3));\n",
              "      fill: #FFFFFF;\n",
              "    }\n",
              "  </style>\n",
              "\n",
              "      <script>\n",
              "        const buttonEl =\n",
              "          document.querySelector('#df-6500372d-5f52-422b-ab80-b3f06069b754 button.colab-df-convert');\n",
              "        buttonEl.style.display =\n",
              "          google.colab.kernel.accessAllowed ? 'block' : 'none';\n",
              "\n",
              "        async function convertToInteractive(key) {\n",
              "          const element = document.querySelector('#df-6500372d-5f52-422b-ab80-b3f06069b754');\n",
              "          const dataTable =\n",
              "            await google.colab.kernel.invokeFunction('convertToInteractive',\n",
              "                                                     [key], {});\n",
              "          if (!dataTable) return;\n",
              "\n",
              "          const docLinkHtml = 'Like what you see? Visit the ' +\n",
              "            '<a target=\"_blank\" href=https://colab.research.google.com/notebooks/data_table.ipynb>data table notebook</a>'\n",
              "            + ' to learn more about interactive tables.';\n",
              "          element.innerHTML = '';\n",
              "          dataTable['output_type'] = 'display_data';\n",
              "          await google.colab.output.renderOutput(dataTable, element);\n",
              "          const docLink = document.createElement('div');\n",
              "          docLink.innerHTML = docLinkHtml;\n",
              "          element.appendChild(docLink);\n",
              "        }\n",
              "      </script>\n",
              "    </div>\n",
              "  </div>\n",
              "  "
            ]
          },
          "metadata": {},
          "execution_count": 6
        }
      ]
    },
    {
      "cell_type": "code",
      "source": [
        "y = x2015_diff['Status2020']\n",
        "y = pd.DataFrame([0 if y[i] == 1 else 1 for i in range(len(y))])\n",
        "\n",
        "X = x2015_diff.drop(['Status2020'],axis=1)"
      ],
      "metadata": {
        "id": "D1s-qdst0y8c"
      },
      "execution_count": 7,
      "outputs": []
    },
    {
      "cell_type": "code",
      "source": [
        "X.shape"
      ],
      "metadata": {
        "colab": {
          "base_uri": "https://localhost:8080/"
        },
        "id": "rPYCNgcv0d_o",
        "outputId": "3086e4f2-5066-44b5-9123-69ad64f98650"
      },
      "execution_count": 8,
      "outputs": [
        {
          "output_type": "execute_result",
          "data": {
            "text/plain": [
              "(165, 13)"
            ]
          },
          "metadata": {},
          "execution_count": 8
        }
      ]
    },
    {
      "cell_type": "code",
      "source": [
        "y.shape"
      ],
      "metadata": {
        "colab": {
          "base_uri": "https://localhost:8080/"
        },
        "id": "IkFhTjmp0mPA",
        "outputId": "758b4a38-a971-4ce3-efaa-a037b843ce33"
      },
      "execution_count": 9,
      "outputs": [
        {
          "output_type": "execute_result",
          "data": {
            "text/plain": [
              "(165, 1)"
            ]
          },
          "metadata": {},
          "execution_count": 9
        }
      ]
    },
    {
      "cell_type": "code",
      "source": [
        "temp = y[y==1]\n",
        "temp.shape"
      ],
      "metadata": {
        "colab": {
          "base_uri": "https://localhost:8080/"
        },
        "id": "rIVy1sRH0Ta-",
        "outputId": "647748ea-00f4-41e9-d88b-3f72187c8958"
      },
      "execution_count": 10,
      "outputs": [
        {
          "output_type": "execute_result",
          "data": {
            "text/plain": [
              "(165, 1)"
            ]
          },
          "metadata": {},
          "execution_count": 10
        }
      ]
    },
    {
      "cell_type": "code",
      "source": [
        "X.shape"
      ],
      "metadata": {
        "colab": {
          "base_uri": "https://localhost:8080/"
        },
        "id": "RN7nQN2YBqAL",
        "outputId": "db654733-feba-4e7b-f119-e6421e53ed5b"
      },
      "execution_count": 11,
      "outputs": [
        {
          "output_type": "execute_result",
          "data": {
            "text/plain": [
              "(165, 13)"
            ]
          },
          "metadata": {},
          "execution_count": 11
        }
      ]
    },
    {
      "cell_type": "code",
      "source": [
        "import matplotlib.pyplot as plt\n",
        "\n",
        "plt.plot(y,'o')"
      ],
      "metadata": {
        "colab": {
          "base_uri": "https://localhost:8080/",
          "height": 282
        },
        "id": "IA8o_4vi7Qy_",
        "outputId": "1774fbcf-24e0-46c7-a401-7c2dd07f909d"
      },
      "execution_count": 12,
      "outputs": [
        {
          "output_type": "execute_result",
          "data": {
            "text/plain": [
              "[<matplotlib.lines.Line2D at 0x7fc3b4ed3250>]"
            ]
          },
          "metadata": {},
          "execution_count": 12
        },
        {
          "output_type": "display_data",
          "data": {
            "text/plain": [
              "<Figure size 432x288 with 1 Axes>"
            ],
            "image/png": "[encoded data removed]"
          },
          "metadata": {
            "needs_background": "light"
          }
        }
      ]
    },
    {
      "cell_type": "markdown",
      "source": [
        "# Models"
      ],
      "metadata": {
        "id": "mkr3u6Fb20mo"
      }
    },
    {
      "cell_type": "code",
      "source": [
        "from sklearn.model_selection import train_test_split\n",
        "from sklearn.preprocessing import StandardScaler\n",
        "from sklearn.datasets import make_moons, make_circles, make_classification\n",
        "from sklearn.neural_network import MLPClassifier\n",
        "from sklearn.neighbors import KNeighborsClassifier\n",
        "from sklearn.svm import SVR\n",
        "from sklearn.gaussian_process import GaussianProcessClassifier\n",
        "from sklearn.gaussian_process.kernels import RBF\n",
        "from sklearn.tree import DecisionTreeClassifier\n",
        "from sklearn.ensemble import RandomForestClassifier, AdaBoostClassifier\n",
        "from sklearn.naive_bayes import GaussianNB\n",
        "from sklearn.discriminant_analysis import QuadraticDiscriminantAnalysis\n",
        "from sklearn.neighbors import KNeighborsClassifier\n",
        "from sklearn.linear_model import LogisticRegression\n",
        "from sklearn import preprocessing\n",
        "from sklearn.model_selection import GridSearchCV\n",
        "from sklearn.metrics import accuracy_score\n",
        "from sklearn.metrics import balanced_accuracy_score\n",
        "from sklearn.metrics import f1_score\n",
        "from sklearn.metrics import roc_auc_score\n",
        "from sklearn.metrics import precision_score\n",
        "from sklearn.metrics import recall_score\n",
        "from sklearn.linear_model import ElasticNet\n",
        "from sklearn.ensemble import GradientBoostingClassifier\n",
        "from sklearn.linear_model import LogisticRegression\n",
        "from sklearn.svm import SVC\n",
        "from sklearn.svm import SVR\n",
        "import xgboost as xgb\n",
        "from tqdm import tqdm"
      ],
      "metadata": {
        "id": "AY3EXDwX3ZhS"
      },
      "execution_count": 13,
      "outputs": []
    },
    {
      "cell_type": "code",
      "source": [
        "\n",
        "model_list = {'SVM':SVC(),\n",
        "              'SVM_poy':SVC(kernel='poly',class_weight='balanced'),\n",
        "                'GBC':GradientBoostingClassifier(),\n",
        "                'MLP': MLPClassifier(),\n",
        "                'RF': RandomForestClassifier(),\n",
        "                #'RF_1': RandomForestClassifier(n_estimators=1000,max_depth=3),\n",
        "                'DT': DecisionTreeClassifier(),\n",
        "                'XGB': xgb.XGBClassifier(),\n",
        "                'KNN': KNeighborsClassifier(),\n",
        "                'LR': LogisticRegression()\n",
        "              }"
      ],
      "metadata": {
        "id": "QR9q2M4B20Gn"
      },
      "execution_count": 14,
      "outputs": []
    },
    {
      "cell_type": "markdown",
      "source": [
        "# Experimental Setup"
      ],
      "metadata": {
        "id": "j3y6xMAHzKKS"
      }
    },
    {
      "cell_type": "code",
      "source": [
        "import warnings\n",
        "warnings.filterwarnings(\"ignore\")"
      ],
      "metadata": {
        "id": "tRb8bAzXD1EO"
      },
      "execution_count": 15,
      "outputs": []
    },
    {
      "cell_type": "code",
      "source": [
        "boot_samples = 100\n",
        "\n",
        "results_matrix = []\n",
        "\n",
        "for i in tqdm(range(boot_samples)):\n",
        "  X_train, X_test, y_train, y_test = train_test_split(X, y, test_size=0.10)\n",
        "\n",
        "  row = []\n",
        "\n",
        "  for m_name, model in model_list.items():\n",
        "    estimator = model.fit(X_train,y_train)\n",
        "\n",
        "    y_pred = estimator.predict(X_test)\n",
        "\n",
        "    row = [m_name, accuracy_score(y_test,y_pred),precision_score(y_test,y_pred),recall_score(y_test,y_pred),balanced_accuracy_score(y_test,y_pred)]\n",
        "\n",
        "    results_matrix.append(row)\n",
        "\n",
        "# Save\n",
        "results = pd.DataFrame(results_matrix)\n",
        "results.columns = ['Model','Accuracy','Precision','Recall','BalancedAccuracy']\n",
        "results.to_csv('temp2.csv')\n",
        "\n",
        "results.head()\n"
      ],
      "metadata": {
        "colab": {
          "base_uri": "https://localhost:8080/",
          "height": 224
        },
        "id": "yGHvIGsXzL5_",
        "outputId": "1dfc67b2-2152-44d0-d7b9-70eb82db7ba6"
      },
      "execution_count": 16,
      "outputs": [
        {
          "output_type": "stream",
          "name": "stderr",
          "text": [
            "100%|██████████| 100/100 [01:14<00:00,  1.34it/s]\n"
          ]
        },
        {
          "output_type": "execute_result",
          "data": {
            "text/plain": [
              "     Model  Accuracy  Precision    Recall  BalancedAccuracy\n",
              "0      SVM  0.764706   0.764706  1.000000          0.500000\n",
              "1  SVM_poy  0.647059   0.818182  0.692308          0.596154\n",
              "2      GBC  0.705882   0.750000  0.923077          0.461538\n",
              "3      MLP  0.647059   0.818182  0.692308          0.596154\n",
              "4       RF  0.705882   0.750000  0.923077          0.461538"
            ],
            "text/html": [
              "\n",
              "  <div id=\"df-875cbbff-f235-4519-b464-0c67ff65562d\">\n",
              "    <div class=\"colab-df-container\">\n",
              "      <div>\n",
              "<style scoped>\n",
              "    .dataframe tbody tr th:only-of-type {\n",
              "        vertical-align: middle;\n",
              "    }\n",
              "\n",
              "    .dataframe tbody tr th {\n",
              "        vertical-align: top;\n",
              "    }\n",
              "\n",
              "    .dataframe thead th {\n",
              "        text-align: right;\n",
              "    }\n",
              "</style>\n",
              "<table border=\"1\" class=\"dataframe\">\n",
              "  <thead>\n",
              "    <tr style=\"text-align: right;\">\n",
              "      <th></th>\n",
              "      <th>Model</th>\n",
              "      <th>Accuracy</th>\n",
              "      <th>Precision</th>\n",
              "      <th>Recall</th>\n",
              "      <th>BalancedAccuracy</th>\n",
              "    </tr>\n",
              "  </thead>\n",
              "  <tbody>\n",
              "    <tr>\n",
              "      <th>0</th>\n",
              "      <td>SVM</td>\n",
              "      <td>0.764706</td>\n",
              "      <td>0.764706</td>\n",
              "      <td>1.000000</td>\n",
              "      <td>0.500000</td>\n",
              "    </tr>\n",
              "    <tr>\n",
              "      <th>1</th>\n",
              "      <td>SVM_poy</td>\n",
              "      <td>0.647059</td>\n",
              "      <td>0.818182</td>\n",
              "      <td>0.692308</td>\n",
              "      <td>0.596154</td>\n",
              "    </tr>\n",
              "    <tr>\n",
              "      <th>2</th>\n",
              "      <td>GBC</td>\n",
              "      <td>0.705882</td>\n",
              "      <td>0.750000</td>\n",
              "      <td>0.923077</td>\n",
              "      <td>0.461538</td>\n",
              "    </tr>\n",
              "    <tr>\n",
              "      <th>3</th>\n",
              "      <td>MLP</td>\n",
              "      <td>0.647059</td>\n",
              "      <td>0.818182</td>\n",
              "      <td>0.692308</td>\n",
              "      <td>0.596154</td>\n",
              "    </tr>\n",
              "    <tr>\n",
              "      <th>4</th>\n",
              "      <td>RF</td>\n",
              "      <td>0.705882</td>\n",
              "      <td>0.750000</td>\n",
              "      <td>0.923077</td>\n",
              "      <td>0.461538</td>\n",
              "    </tr>\n",
              "  </tbody>\n",
              "</table>\n",
              "</div>\n",
              "      <button class=\"colab-df-convert\" onclick=\"convertToInteractive('df-875cbbff-f235-4519-b464-0c67ff65562d')\"\n",
              "              title=\"Convert this dataframe to an interactive table.\"\n",
              "              style=\"display:none;\">\n",
              "        \n",
              "  <svg xmlns=\"http://www.w3.org/2000/svg\" height=\"24px\"viewBox=\"0 0 24 24\"\n",
              "       width=\"24px\">\n",
              "    <path d=\"M0 0h24v24H0V0z\" fill=\"none\"/>\n",
              "    <path d=\"M18.56 5.44l.94 2.06.94-2.06 2.06-.94-2.06-.94-.94-2.06-.94 2.06-2.06.94zm-11 1L8.5 8.5l.94-2.06 2.06-.94-2.06-.94L8.5 2.5l-.94 2.06-2.06.94zm10 10l.94 2.06.94-2.06 2.06-.94-2.06-.94-.94-2.06-.94 2.06-2.06.94z\"/><path d=\"M17.41 7.96l-1.37-1.37c-.4-.4-.92-.59-1.43-.59-.52 0-1.04.2-1.43.59L10.3 9.45l-7.72 7.72c-.78.78-.78 2.05 0 2.83L4 21.41c.39.39.9.59 1.41.59.51 0 1.02-.2 1.41-.59l7.78-7.78 2.81-2.81c.8-.78.8-2.07 0-2.86zM5.41 20L4 18.59l7.72-7.72 1.47 1.35L5.41 20z\"/>\n",
              "  </svg>\n",
              "      </button>\n",
              "      \n",
              "  <style>\n",
              "    .colab-df-container {\n",
              "      display:flex;\n",
              "      flex-wrap:wrap;\n",
              "      gap: 12px;\n",
              "    }\n",
              "\n",
              "    .colab-df-convert {\n",
              "      background-color: #E8F0FE;\n",
              "      border: none;\n",
              "      border-radius: 50%;\n",
              "      cursor: pointer;\n",
              "      display: none;\n",
              "      fill: #1967D2;\n",
              "      height: 32px;\n",
              "      padding: 0 0 0 0;\n",
              "      width: 32px;\n",
              "    }\n",
              "\n",
              "    .colab-df-convert:hover {\n",
              "      background-color: #E2EBFA;\n",
              "      box-shadow: 0px 1px 2px rgba(60, 64, 67, 0.3), 0px 1px 3px 1px rgba(60, 64, 67, 0.15);\n",
              "      fill: #174EA6;\n",
              "    }\n",
              "\n",
              "    [theme=dark] .colab-df-convert {\n",
              "      background-color: #3B4455;\n",
              "      fill: #D2E3FC;\n",
              "    }\n",
              "\n",
              "    [theme=dark] .colab-df-convert:hover {\n",
              "      background-color: #434B5C;\n",
              "      box-shadow: 0px 1px 3px 1px rgba(0, 0, 0, 0.15);\n",
              "      filter: drop-shadow(0px 1px 2px rgba(0, 0, 0, 0.3));\n",
              "      fill: #FFFFFF;\n",
              "    }\n",
              "  </style>\n",
              "\n",
              "      <script>\n",
              "        const buttonEl =\n",
              "          document.querySelector('#df-875cbbff-f235-4519-b464-0c67ff65562d button.colab-df-convert');\n",
              "        buttonEl.style.display =\n",
              "          google.colab.kernel.accessAllowed ? 'block' : 'none';\n",
              "\n",
              "        async function convertToInteractive(key) {\n",
              "          const element = document.querySelector('#df-875cbbff-f235-4519-b464-0c67ff65562d');\n",
              "          const dataTable =\n",
              "            await google.colab.kernel.invokeFunction('convertToInteractive',\n",
              "                                                     [key], {});\n",
              "          if (!dataTable) return;\n",
              "\n",
              "          const docLinkHtml = 'Like what you see? Visit the ' +\n",
              "            '<a target=\"_blank\" href=https://colab.research.google.com/notebooks/data_table.ipynb>data table notebook</a>'\n",
              "            + ' to learn more about interactive tables.';\n",
              "          element.innerHTML = '';\n",
              "          dataTable['output_type'] = 'display_data';\n",
              "          await google.colab.output.renderOutput(dataTable, element);\n",
              "          const docLink = document.createElement('div');\n",
              "          docLink.innerHTML = docLinkHtml;\n",
              "          element.appendChild(docLink);\n",
              "        }\n",
              "      </script>\n",
              "    </div>\n",
              "  </div>\n",
              "  "
            ]
          },
          "metadata": {},
          "execution_count": 16
        }
      ]
    },
    {
      "cell_type": "code",
      "source": [
        "import numpy as np\n",
        "\n",
        "print(f\"Modelo \\t\\t Acc \\t\\t Esp \\t\\t Sen\")\n",
        "for m_name, model in model_list.items():\n",
        "  temp = results[results['Model']==m_name]\n",
        "\n",
        "  print(f\"{m_name}\\t\\t {np.mean(temp['Accuracy']):.2f} \\u00B1 {np.std(temp['Accuracy']):.2f} \\t {np.mean(temp['Precision']):.2f} \\u00B1 {np.std(temp['Precision']):.2f}\\t {np.mean(temp['Recall']):.2f} \\u00B1 {np.std(temp['Recall']):.2f}\")\n"
      ],
      "metadata": {
        "id": "mBnEI35ROkd1",
        "colab": {
          "base_uri": "https://localhost:8080/"
        },
        "outputId": "bf3c6c8a-1ace-4b91-a0b8-fd43d9e93944"
      },
      "execution_count": 17,
      "outputs": [
        {
          "output_type": "stream",
          "name": "stdout",
          "text": [
            "Modelo \t\t Acc \t\t Esp \t\t Sen\n",
            "SVM\t\t 0.79 ± 0.09 \t 0.80 ± 0.09\t 0.99 ± 0.02\n",
            "SVM_poy\t\t 0.76 ± 0.09 \t 0.88 ± 0.09\t 0.81 ± 0.10\n",
            "GBC\t\t 0.80 ± 0.09 \t 0.84 ± 0.09\t 0.93 ± 0.07\n",
            "MLP\t\t 0.78 ± 0.10 \t 0.83 ± 0.10\t 0.93 ± 0.07\n",
            "RF\t\t 0.80 ± 0.10 \t 0.83 ± 0.10\t 0.95 ± 0.06\n",
            "DT\t\t 0.75 ± 0.11 \t 0.85 ± 0.09\t 0.84 ± 0.11\n",
            "XGB\t\t 0.80 ± 0.10 \t 0.85 ± 0.10\t 0.92 ± 0.08\n",
            "KNN\t\t 0.79 ± 0.10 \t 0.82 ± 0.10\t 0.94 ± 0.06\n",
            "LR\t\t 0.80 ± 0.10 \t 0.85 ± 0.09\t 0.93 ± 0.08\n"
          ]
        }
      ]
    },
    {
      "cell_type": "code",
      "source": [
        "print(u\"\\u00B1\")"
      ],
      "metadata": {
        "colab": {
          "base_uri": "https://localhost:8080/"
        },
        "id": "tA0BGupbXhVl",
        "outputId": "44c6748a-e056-4de6-df7d-344047149c9d"
      },
      "execution_count": 18,
      "outputs": [
        {
          "output_type": "stream",
          "name": "stdout",
          "text": [
            "±\n"
          ]
        }
      ]
    },
    {
      "cell_type": "code",
      "source": [
        ""
      ],
      "metadata": {
        "id": "awYdWQVvlrqB"
      },
      "execution_count": 18,
      "outputs": []
    }
  ]
}